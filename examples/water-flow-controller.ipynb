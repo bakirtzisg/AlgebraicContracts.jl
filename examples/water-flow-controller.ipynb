{
 "cells": [
  {
   "cell_type": "markdown",
   "id": "03ba3e0a",
   "metadata": {},
   "source": [
    "# Water flow controller"
   ]
  },
  {
   "cell_type": "markdown",
   "id": "39080728",
   "metadata": {},
   "source": [
    "Example of a water control system adapted from [\"Taming Dr. Frankenstein: Contract-Based Design for Cyber-physical Systems\"](https://doi.org/10.3166/ejc.18.217-238)\n",
    "\n",
    "The system consists of a valve connected to a water tank. There is a sensor in the water tank that measures the water level. A controller measures this signal and controls the valve. For clarity, here is a diagram of the system:"
   ]
  },
  {
   "cell_type": "markdown",
   "id": "9affddc8",
   "metadata": {},
   "source": [
    "<img src=\"img/water_flow_controller.png\" width=\"65%\">"
   ]
  },
  {
   "cell_type": "code",
   "execution_count": 1,
   "id": "a819c52b",
   "metadata": {},
   "outputs": [
    {
     "name": "stderr",
     "output_type": "stream",
     "text": [
      "\u001b[32m\u001b[1m  Activating\u001b[22m\u001b[39m project at `~/Desktop/Categorical_Semantics/AlgebraicContracts.jl`\n"
     ]
    }
   ],
   "source": [
    "# Activate the require environment\n",
    "using Pkg\n",
    "    # Use path relative to notebook\n",
    "Pkg.activate(\"../../AlgebraicContracts.jl\")"
   ]
  },
  {
   "cell_type": "code",
   "execution_count": null,
   "id": "46d427eb",
   "metadata": {},
   "outputs": [],
   "source": [
    "# Access submodule\n",
    "using AlgebraicContracts.ContractedMachines"
   ]
  },
  {
   "cell_type": "code",
   "execution_count": null,
   "id": "34226c8e",
   "metadata": {},
   "outputs": [],
   "source": [
    "# Wiring diagrams\n",
    "using Catlab.WiringDiagrams\n",
    "using Catlab.Graphics\n",
    "using Catlab.Graphics.Graphviz\n",
    "# Dynamics\n",
    "using DifferentialEquations\n",
    "using AlgebraicDynamics.DWDDynam\n",
    "using LabelledArrays\n",
    "# Plotting\n",
    "using Plots\n",
    "# Contracts\n",
    "using IntervalSets  "
   ]
  },
  {
   "cell_type": "markdown",
   "id": "2db88410",
   "metadata": {},
   "source": [
    "## Wiring diagram architecture"
   ]
  },
  {
   "cell_type": "markdown",
   "id": "692eec3a",
   "metadata": {},
   "source": [
    "The behavior of a system is determined by the modules that form it and the connections between these modules. We can encode this information using a wiring diagram. We can also enforce directionality as we expect information to flow _from_ a source module _into_ a target module. \n",
    "\n",
    "To begin with this process, we must think abstractly and consider the total number of _inputs_ entering the system and the total number of _outputs_ exiting the system. In the case of our water tank, we only have the flow entering and exiting the tank. We can represent these variables through arrays of _symbols_ in which each entry is associated with a different variable. "
   ]
  },
  {
   "cell_type": "code",
   "execution_count": null,
   "id": "87260bd3",
   "metadata": {},
   "outputs": [],
   "source": [
    "net_inputs = [:F]\n",
    "net_outputs = [:Fout];"
   ]
  },
  {
   "cell_type": "markdown",
   "id": "aa738a33",
   "metadata": {},
   "source": [
    "Having defined the input and outputs of the system, we can use these arrays to make a wiring diagram. "
   ]
  },
  {
   "cell_type": "code",
   "execution_count": null,
   "id": "73298fb8",
   "metadata": {},
   "outputs": [],
   "source": [
    "# Diagram:           Inputs, Outputs <- Ports of entire diagram\n",
    "water_flow = WiringDiagram(net_inputs, net_outputs);"
   ]
  },
  {
   "cell_type": "markdown",
   "id": "2f6d5a2e",
   "metadata": {},
   "source": [
    "This diagram is only a canvas for us to draw our system. As it stands, there is nothing in it. "
   ]
  },
  {
   "cell_type": "code",
   "execution_count": null,
   "id": "fe8d3563",
   "metadata": {},
   "outputs": [],
   "source": [
    "to_graphviz(water_flow, orientation=LeftToRight, labels=true)"
   ]
  },
  {
   "cell_type": "markdown",
   "id": "2e45895e",
   "metadata": {},
   "source": [
    "We must populate with boxes to visualize anything. Each box can correspond to a submodule of the system. We must give each box a _name_, some _inputs_, and some _outputs_. The inputs and outputs follow the same vector convection as a wiring diagram. "
   ]
  },
  {
   "cell_type": "code",
   "execution_count": null,
   "id": "0b56d8ea",
   "metadata": {},
   "outputs": [],
   "source": [
    "box_valve     = Box(:valve,     [:F, :λcmd], [:Fin])\n",
    "box_container = Box(:container, [:Fin],      [:Fout, :wl])\n",
    "box_sensor    = Box(:sensor,    [:wl],       [:wlm])\n",
    "box_controller= Box(:controller,[:wlm],      [:λcmd])"
   ]
  },
  {
   "cell_type": "markdown",
   "id": "c50c5df2",
   "metadata": {},
   "source": [
    "Having defined boxes representing the submodules, we must add these boxes to the wiring diagram we created before. Each time we add a box to a diagram, this box will become associated with a particular id number. While adding a box, we can store this number for future reference. The ids are assigned by the order in which boxes are added. The first box to be added has id = 1, while the third has id=3, etc. "
   ]
  },
  {
   "cell_type": "code",
   "execution_count": null,
   "id": "0f220ef4",
   "metadata": {},
   "outputs": [],
   "source": [
    "# add boxes to diagram\n",
    "valve_id      = add_box!(water_flow, box_valve)\n",
    "container_id  = add_box!(water_flow, box_container)\n",
    "sensor_id     = add_box!(water_flow, box_sensor)\n",
    "controller_id = add_box!(water_flow, box_controller)"
   ]
  },
  {
   "cell_type": "markdown",
   "id": "221e02cb",
   "metadata": {},
   "source": [
    "If we display our system after adding the boxes, we'll notice it is incomplete. The diagram is populated, but there are no connections between the boxes."
   ]
  },
  {
   "cell_type": "code",
   "execution_count": null,
   "id": "e727769f",
   "metadata": {},
   "outputs": [],
   "source": [
    "to_graphviz(water_flow, orientation=LeftToRight, labels=true)"
   ]
  },
  {
   "cell_type": "markdown",
   "id": "fc8e8e5e",
   "metadata": {},
   "source": [
    "We can assign connections with the id number of each of the boxes. To do so, we must consider the idea of a _port number_. This unique identifier is associated with a particular connection on a box. Given that boxes have inputs and outputs, each set has a list of port numbers.  \n",
    "\n",
    "The port numbers work the same way as box ids. Each input or output we add to a box will have an id number based on how the variable was assigned to a box. Consider a connection between the _first output_ of the valve _Fin_ and the _first input_ of the container _Fin_. We can add this connection as follows:"
   ]
  },
  {
   "cell_type": "code",
   "execution_count": null,
   "id": "088aa2b2",
   "metadata": {},
   "outputs": [],
   "source": [
    "# add connections\n",
    "add_wires!(water_flow, [\n",
    "    (valve_id, 1) => (container_id, 1),\n",
    "])\n",
    "\n",
    "# View graph\n",
    "to_graphviz(water_flow, orientation=LeftToRight, labels=true)"
   ]
  },
  {
   "cell_type": "markdown",
   "id": "631298ad",
   "metadata": {},
   "source": [
    "By following the same procedure, we can assign connections between other boxes inside the system:"
   ]
  },
  {
   "cell_type": "code",
   "execution_count": null,
   "id": "8c4ff249",
   "metadata": {},
   "outputs": [],
   "source": [
    "# add connections\n",
    "add_wires!(water_flow, [\n",
    "    (container_id, 2) => (sensor_id, 1),\n",
    "    (sensor_id, 1) => (controller_id, 1),\n",
    "    (controller_id, 1) => (valve_id, 2),\n",
    "]);"
   ]
  },
  {
   "cell_type": "markdown",
   "id": "dde8c6ad",
   "metadata": {},
   "source": [
    "At this point, all that is left is to add connections that enter or exit the system. We can assign these connections by treating the _entire system_ as a box that has its _own set of port numbers_. These numbers are assigned by the order in which we initially added inputs and outputs to the wiring diagram."
   ]
  },
  {
   "cell_type": "code",
   "execution_count": null,
   "id": "7f046b72",
   "metadata": {},
   "outputs": [],
   "source": [
    "# add connections\n",
    "add_wires!(water_flow, [\n",
    "    # Net Inputs      \n",
    "    (input_id(water_flow),1) => (valve_id,1),\n",
    "    # Net Outputs\n",
    "    (container_id,1) => (output_id(water_flow),1)\n",
    "])\n",
    "\n",
    "# Visualize system\n",
    "to_graphviz(water_flow, orientation=LeftToRight, labels=true)"
   ]
  },
  {
   "cell_type": "markdown",
   "id": "a7028ad2",
   "metadata": {},
   "source": [
    "## Wiring diagram semantics"
   ]
  },
  {
   "cell_type": "markdown",
   "id": "08b66445",
   "metadata": {},
   "source": [
    "Having created a diagram to define the connections inside of our system, we can define the behavior of each of the boxes. This is accomplished through a dynamics function and a readout function. These functions have the following requirements: \n",
    "\n",
    "__Dynamics function__: This function is used to update the state of a box. It takes in four parameters as inputs:\n",
    "1. __u__: The system's current state is represented by a state-space vector.\n",
    "2. __x__: A vector carrying all external inputs entering the system. The index of each vector element corresponds to the port number of said element. For example, x[1] corresponds to the input variable at port_number=1.\n",
    "3. __p__:Parameter array containing _all_ of the constants used by _every_ box across the system. Given this array is shared across all boxes, it is best to _uniquely_ identify a specific value through a label.\n",
    "4. __t__. variable used to execute time dependant function and depends on the system question.  \n",
    "\n",
    "The output of the dynamics function is an _updated_ state vector __u__. Each element of this vector is assigned to a state of the box. For example, if a box has 3 state variables, the readout function _must_ output a vector u=[u1,u2,u3]. \n",
    "\n",
    "__Readout function__: This function will generate the values that other boxes will use as their external inputs. It receives three parameters as inputs:\n",
    "1. __u__: The state vector of the box.\n",
    "2. __p__: The global parameter array.\n",
    "3. __t__: A time variable.\n",
    "\n",
    "The readout function _must_ output a vector with the same number of entries as output variables. Each entry is assigned to the outgoing wires of the box. For example, if the output is Y=[y1,y2] then y1 will be assigned to the wire at output_port=1, and y2 is assigned to the wire at output_port=2. \n",
    "\n",
    "For more information on the Dynamics and readout functions, see the documentation for [AlgebraicDynamics](https://algebraicjulia.github.io/AlgebraicDynamics.jl/dev/)."
   ]
  },
  {
   "cell_type": "markdown",
   "id": "d915ffb6",
   "metadata": {},
   "source": [
    "With this information in mind, we can construct the dynamics functions for each box. For clarity, we'll use the same variable names as the paper using [labeled arrays](https://juliapackages.com/p/labelledarrays). We can use them by defining labels for each of the vectors used by the functions.  "
   ]
  },
  {
   "cell_type": "code",
   "execution_count": null,
   "id": "082c4710",
   "metadata": {},
   "outputs": [],
   "source": [
    "# Dynamics functions of each box\n",
    "function dynamics_valve(u,x,p,t)\n",
    "    u = @LArray u (:λ,) \n",
    "    x = @LArray x (:F, :λcmd,)\n",
    "    # steep continuous range\n",
    "    dλ = (x.λcmd - u.λ) * p.kλ\n",
    "    # sign response\n",
    "    dλ = dλ > 0.5  ? 0.5  : \n",
    "         dλ < -0.5 ? -0.5 : dλ\n",
    "    return [ dλ ]\n",
    "end\n",
    "\n",
    "function dynamics_container(u,x,p,t)\n",
    "    u = @LArray u (:wl,) \n",
    "    x = @LArray x (:Fin,)\n",
    "    Fout = u.wl <= 0 ? 0 : p.Sout*sqrt( 2*p.g*u.wl )\n",
    "    return [ (x.Fin - Fout - p.𝜀)/( pi*(p.D/2)^2 ) ]  \n",
    "end\n",
    "\n",
    "function dynamics_sensor(u,x,p,t)\n",
    "    u = @LArray u (:wlm,)\n",
    "    x = @LArray x (:wl,)\n",
    "    return [ (x.wl - u.wlm)*p.ks ]\n",
    "end\n",
    "\n",
    "function dynamics_controller(u,x,p,t)\n",
    "    u = @LArray u (:λcmd,)\n",
    "    x = @LArray x (:wlm,)\n",
    "    λt = x.wlm < p.wlmin ? 1 : \n",
    "         x.wlm > p.wlmax ? 0 : u.λcmd \n",
    "    return [ (λt - u.λcmd)*p.kc ]\n",
    "end"
   ]
  },
  {
   "cell_type": "markdown",
   "id": "e4ff4246",
   "metadata": {},
   "source": [
    "We can construct the readout functions the same way as the dynamics functions. Note that in all cases, __p__ values are uniquely identified through a label."
   ]
  },
  {
   "cell_type": "code",
   "execution_count": null,
   "id": "9d56d50f",
   "metadata": {},
   "outputs": [],
   "source": [
    "# Readout function of each box\n",
    "function readout_valve(u, p, t)\n",
    "    u = @LArray u (:λ,)\n",
    "    Fin = p.F*(0.2*u.λ^2 + 0.8*u.λ)\n",
    "    return return [Fin]\n",
    "end\n",
    "\n",
    "function readout_container(u, p, t) \n",
    "    u = @LArray u (:wl,)\n",
    "    Fout = u.wl < 0 ? 0 : p.Sout*sqrt( 2*p.g*u.wl )\n",
    "    return [Fout, u.wl]\n",
    "end\n",
    "\n",
    "readout_sensor(u, p, t) = u\n",
    "readout_controller(u, p, t) = u"
   ]
  },
  {
   "cell_type": "markdown",
   "id": "5e1361b5",
   "metadata": {},
   "source": [
    "# Static contracts\n",
    "We can now define the _contracts_ we want the boxes to satisfy. This is accomplished by constructing intervals that define a range of acceptable values. There is one such interval for each wire entering or exiting a box. \n",
    "\n",
    "Their interpretation is simple: if the value of a variable at a specified _wire port_ is within the assigned interval, the contract is _satisfied_. If the value is outside this range, the contract has been _violated_. \n",
    "\n",
    "We can create these intervals using the double period operator and functions from the [IntervalSets](https://github.com/JuliaMath/IntervalSets.jl) module. "
   ]
  },
  {
   "cell_type": "code",
   "execution_count": null,
   "id": "b2a74697",
   "metadata": {},
   "outputs": [],
   "source": [
    "# Legend:\n",
    "# F:    Input flow rate \n",
    "# Fin:  flow rate through valve\n",
    "# wl:   water level in container\n",
    "# wlm:  measured water level\n",
    "# λcmd: commanded valve position\n",
    "# λ:    valve position\n",
    "\n",
    "# Input and output contracts for each box at each port\n",
    "                                # Variables     # Units \n",
    "sensor_in = [0.2..8]           # wl            m\n",
    "sensor_out = [0.2..8]          # wlm           m\n",
    "\n",
    "controller_in = [3..5]          # wlm           m\n",
    "controller_out = [0..1]         # λcmd          n/a\n",
    "\n",
    "container_in = [0..6]           # Fin           m^3/s\n",
    "container_out = [1..8, 2..8]    # Fout, wl      m^3/s , m\n",
    "\n",
    "valve_in = [0..6, 0..1]         # F, λcmd       m^3/s, m\n",
    "valve_out = [0..6]              # Fin           m^3/s"
   ]
  },
  {
   "cell_type": "code",
   "execution_count": null,
   "id": "c0112d1c",
   "metadata": {},
   "outputs": [],
   "source": [
    "# 1. Interface\n",
    "# The contract machines are created with the following inputs:\n",
    "\n",
    "# ContractMachine{Type}(InputContracts, NumberOfStates, OutputContracts, \n",
    "#                       DynamicsFunction, ReadoutFunction)\n",
    "\n",
    "# 2. Creating atomic contract machines\n",
    "valve_machine      = ContractedMachine{Float64}(valve_in, 1, valve_out,     \n",
    "                                                            dynamics_valve, \n",
    "                                                            readout_valve)\n",
    "\n",
    "container_machine  = ContractedMachine{Float64}(container_in, 1, container_out, \n",
    "                                                            dynamics_container, \n",
    "                                                            readout_container)\n",
    "\n",
    "sensor_machine     = ContractedMachine{Float64}(sensor_in, 1, sensor_out,    \n",
    "                                                            dynamics_sensor, \n",
    "                                                            readout_sensor)\n",
    "\n",
    "controller_machine = ContractedMachine{Float64}(controller_in, 1, controller_out,   \n",
    "                                                            dynamics_controller, \n",
    "                                                            readout_controller)"
   ]
  },
  {
   "cell_type": "markdown",
   "id": "679ae7b6",
   "metadata": {},
   "source": [
    "We can compose all of these machines together using the wiring diagram as a final step. It is important to remember that every box in the wiring diagram _requires_ a contract machine. "
   ]
  },
  {
   "cell_type": "code",
   "execution_count": null,
   "id": "1de47b7f",
   "metadata": {},
   "outputs": [],
   "source": [
    "# Compose system\n",
    "water_system = oapply(water_flow, Dict( :valve => valve_machine, \n",
    "                                        :container => container_machine, \n",
    "                                        :sensor => sensor_machine, \n",
    "                                        :controller => controller_machine )) "
   ]
  },
  {
   "cell_type": "markdown",
   "id": "97d0b607",
   "metadata": {},
   "source": [
    "# Evaluate system \n",
    "Once we have composed the system, we can find out its behavior using an ODE solver, a list of parameters, and a set of initial conditions. "
   ]
  },
  {
   "cell_type": "code",
   "execution_count": null,
   "id": "9dbdc3cb",
   "metadata": {},
   "outputs": [],
   "source": [
    "# Initial conditions\n",
    "u_init = LVector(λ = 0.0,   # valve position [0, 1]\n",
    "                wl = 4.0,   # water level in container\n",
    "                wlm = 4.0,  # measured water level\n",
    "                λcmd = 0.0) # commanded valve position [sent by controller]\n",
    "\n",
    "# NOTE: The container must drain faster than the input flow fills it. \n",
    "pvalve = LVector(Sout = 0.16, # Exit area of container | | m^2\n",
    "                g = 9.81,     # Acceleration due to gravity | m/s^2\n",
    "                D = 5.0,      # Diameter of container | m\n",
    "                wlmax = 5,    # maximum water level | m\n",
    "                wlmin = 3,    # minimum water level | m\n",
    "                ks = 0.5,     # time constant of sensor, 1rst order\n",
    "                kc = 2,       # time constant of controller, 1rst order\n",
    "                𝜀 = 0.25/3600,# Evaporation rate | m^3/s\n",
    "                F = 5,        # Input flow rate | m^3/s\n",
    "                kλ = 1e4)     # slope of sign approximation\n",
    "\n",
    "#External inputs\n",
    "x_init = [pvalve.F]\n",
    "\n",
    "# Integration span must be large enough to see steady state behavior\n",
    "tspan = (0.0, 100.0)"
   ]
  },
  {
   "cell_type": "code",
   "execution_count": null,
   "id": "8d741c88",
   "metadata": {},
   "outputs": [],
   "source": [
    "# Solve Dynamics. The water level should reach the desired value\n",
    "prob = ODEProblem(water_system, u_init, x_init, tspan, pvalve)\n",
    "sol = solve( prob, alg_hints=[:stiff] );"
   ]
  },
  {
   "cell_type": "code",
   "execution_count": null,
   "id": "529c5141",
   "metadata": {},
   "outputs": [],
   "source": [
    "plotsol() = begin\n",
    "    # 1a. Water level\n",
    "    p1 = plot( sol.t, [sol[:wl,:] sol[:wlm, :]], \n",
    "        linecolor=[:black :grey], legend=:right,     \n",
    "        ylabel=\"Water level [m]\", \n",
    "        label=[\"wl\" \"wlm\"] )\n",
    "\n",
    "    # 1b. Target values\n",
    "    hline!( [pvalve.wlmax pvalve.wlmin], linestyle=:dash, label=:none, linecolor=[:grey :grey] )\n",
    "\n",
    "    # 2. Valve position\n",
    "    p2 = plot( sol.t, [sol[:λ,:], sol[:λcmd, :]],\n",
    "        linecolor=[:black :grey], legend=:right,\n",
    "        xlabel=\"Time [s]\", ylabel=\"Valve position\", \n",
    "        label=[\"λ\" \"λcmd\"] )\n",
    "\n",
    "    # 3. Merge plots\n",
    "    plot(p1, p2, layout=(2,1), guidefontsize=8)\n",
    "end\n",
    "\n",
    "# Display results\n",
    "plotsol()"
   ]
  },
  {
   "cell_type": "code",
   "execution_count": null,
   "id": "9afbe6b3",
   "metadata": {},
   "outputs": [],
   "source": [
    "# Save plot\n",
    "savefig(\"img/water_flow_plot_failure.png\")\n",
    "\n",
    "# Store results\n",
    "using CSV\n",
    "using DataFrames\n",
    "\n",
    "CSV.write(\"data/water_controller_bangbang.csv\",  DataFrame(sol), delim=' ');"
   ]
  },
  {
   "cell_type": "markdown",
   "id": "98c3df2f",
   "metadata": {},
   "source": [
    "With some results for the system's behavior, we can check whether the contracts were satisfied. We do some by using the solution of the ode solver, the combined system, and the initial inputs and parameters."
   ]
  },
  {
   "cell_type": "code",
   "execution_count": null,
   "id": "080467a2",
   "metadata": {},
   "outputs": [],
   "source": [
    "# Show when and where contracts were violated\n",
    "    # Note: Adjust stepsize to improve accuracy of failure intervals\n",
    "dict = check_contract(sol, water_system, x_init, pvalve, out_type=\"time\")"
   ]
  },
  {
   "cell_type": "markdown",
   "id": "23eb2f59",
   "metadata": {},
   "source": [
    "The table shows a lot of information. Here's what it means:\n",
    "- The box column gives us a list of the boxes that form our system. Should any of these boxes be formed from the composition of _other_ boxes, they will be listed in a direction akin to the file directories used by computers. \n",
    "- The input column tells us which _input wires_ of a particular box failed to satisfy its contract, and it also tells us the _time interval_ during which this violation occurred. If a wire fails multiple times, it will be listed multiple times.\n",
    "- The output column follows the same format as the input column. Listed are the _output wires_ that failed to meet their contracts and the time intervals this occurred. \n",
    "\n",
    "We can check this information by comparing the contract intervals we assigned earlier with the results from the ODE solver. For example, consider the input \"wlm\" of the controller box. Our contract states that it has to measure a water level between 3m and 5m. By looking at the graph, we can see that the measured water leve is above 5m between 31.95 sec and 40.40 sec. During this time interval the contract has been _violated_. The same logic applie for every contract throughout the system. "
   ]
  },
  {
   "cell_type": "markdown",
   "id": "70282146",
   "metadata": {},
   "source": [
    "## Modifed controller\n",
    "We can ensure the contracts are fully satisfied by modifying the controller. Instead of abruptly switching on and off, the controller can provide a proportional value that ramps smoothly between being fully open and fully closed. This ensures there's an intermediate valve setting that maintain equilibrium."
   ]
  },
  {
   "cell_type": "code",
   "execution_count": null,
   "id": "93883da7",
   "metadata": {},
   "outputs": [],
   "source": [
    "function dynamics_controller(u,x,p,t)\n",
    "    u = @LArray u (:λcmd,)\n",
    "    x = @LArray x (:wlm,)\n",
    "    λt = x.wlm < p.wlmin ? 1 : \n",
    "         x.wlm > p.wlmax ? 0 : \n",
    "        (p.wlmax - x.wlm)/(p.wlmax - p.wlmin)\n",
    "    return [ (λt - u.λcmd)*p.kc ]\n",
    "end"
   ]
  },
  {
   "cell_type": "markdown",
   "id": "48ad1182",
   "metadata": {},
   "source": [
    "Because we've changed the behavior of the controller, we need to redefine the behavior of the composed system. As a consequence, we need to solve the system's dynamics again."
   ]
  },
  {
   "cell_type": "code",
   "execution_count": null,
   "id": "7cc192cb",
   "metadata": {},
   "outputs": [],
   "source": [
    "# redefine controller\n",
    "controller_machine = ContractedMachine{Float64}(controller_in, 1, controller_out,   \n",
    "                                                            dynamics_controller, \n",
    "                                                            readout_controller)\n",
    "# redefine composed system\n",
    "water_system = oapply(water_flow, Dict( :valve => valve_machine, \n",
    "                                        :container => container_machine, \n",
    "                                        :sensor => sensor_machine, \n",
    "                                        :controller => controller_machine )) \n",
    "\n",
    "# Solve Dynamics. The water level should reach the desired value\n",
    "prob = ODEProblem(water_system, u_init, x_init, tspan, pvalve)\n",
    "sol = solve( prob, alg_hints=[:stiff] );\n",
    "\n",
    "# Display results\n",
    "plotsol()"
   ]
  },
  {
   "cell_type": "markdown",
   "id": "73bc25ad",
   "metadata": {},
   "source": [
    "By looking at the plots it's obvious the measured water level never leaves the expected values. This is validated by looking at the failure intervals of the system. As expected, none of the boxes failed to satisfy their contracts."
   ]
  },
  {
   "cell_type": "code",
   "execution_count": null,
   "id": "347ed359",
   "metadata": {},
   "outputs": [],
   "source": [
    "dict = check_contract(sol, water_system, x_init, pvalve, out_type=\"time\")"
   ]
  },
  {
   "cell_type": "code",
   "execution_count": null,
   "id": "b59f1d51",
   "metadata": {},
   "outputs": [],
   "source": [
    "# Save plot\n",
    "savefig(\"img/water_flow_plot_success.png\")\n",
    "\n",
    "# Store results\n",
    "CSV.write(\"data/water_controller_proportional.csv\",  DataFrame(sol), delim=' ');"
   ]
  }
 ],
 "metadata": {
  "kernelspec": {
   "display_name": "Julia 1.7.1",
   "language": "julia",
   "name": "julia-1.7"
  },
  "language_info": {
   "file_extension": ".jl",
   "mimetype": "application/julia",
   "name": "julia",
   "version": "1.7.1"
  }
 },
 "nbformat": 4,
 "nbformat_minor": 5
}
