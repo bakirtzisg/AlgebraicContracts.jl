{
 "cells": [
  {
   "cell_type": "markdown",
   "id": "6c0b63fc",
   "metadata": {},
   "source": [
    "# Sequential Contracts\n",
    "\n",
    "This example explores the creation and composition of static contracts using a wiring diagram."
   ]
  },
  {
   "cell_type": "code",
   "execution_count": 1,
   "id": "fa8eece5",
   "metadata": {},
   "outputs": [
    {
     "name": "stderr",
     "output_type": "stream",
     "text": [
      "\u001b[32m\u001b[1m  Activating\u001b[22m\u001b[39m project at `~/Desktop/Categorical_Semantics/AlgebraicContracts.jl`\n"
     ]
    }
   ],
   "source": [
    "# Activate the require environment\n",
    "using Pkg\n",
    "    # Use path relative to notebook\n",
    "Pkg.activate(\"../../AlgebraicContracts.jl\")"
   ]
  },
  {
   "cell_type": "code",
   "execution_count": 2,
   "id": "0d706f92",
   "metadata": {},
   "outputs": [],
   "source": [
    "using AlgebraicContracts.StaticContracts"
   ]
  },
  {
   "cell_type": "code",
   "execution_count": 3,
   "id": "3456d4b8",
   "metadata": {},
   "outputs": [],
   "source": [
    "using Catlab.WiringDiagrams\n",
    "using Catlab.Graphics\n",
    "using Catlab.Graphics.Graphviz\n",
    "using IntervalSets "
   ]
  },
  {
   "cell_type": "markdown",
   "id": "b1ae9054",
   "metadata": {},
   "source": [
    "### 1. Contract of a box:\n",
    "Boxes connected by wires inhabit a wiring diagram. Each box has a single contract for each wire entering and exiting the box in its isolated state. Pairs of intervals form the contracts. \n",
    "\n",
    "Box1: C<sub>1</sub> → _Xin_ x _Xout_  \n",
    "Box2: C<sub>2</sub> → _Yin_ x _Yout_  \n",
    "\n",
    "We create a _StaticContract_ by specifying the _type_ of variable going through a box and assigning intervals of acceptable values to the inputs and outputs. Each interval is associated with a scalar value sent via a wire. \n",
    "\n",
    "For example, let us create a _StaticContract_ for a single box. We assign the intervals Xin = (1,2] at its input, and Xout = [2.0,∞) at its output. The intervals are created using the [IntervalSets](https://juliapackages.com/p/intervalsets) package through the double period operator. "
   ]
  },
  {
   "cell_type": "code",
   "execution_count": 4,
   "id": "37546c30",
   "metadata": {},
   "outputs": [
    {
     "data": {
      "text/plain": []
     },
     "execution_count": 4,
     "metadata": {},
     "output_type": "execute_result"
    },
    {
     "name": "stdout",
     "output_type": "stream",
     "text": [
      "StaticContract( (1,2] × [2.0,∞) )"
     ]
    }
   ],
   "source": [
    "box1 = StaticContract{Float64}( [ Interval{:open, :closed}(1..2) ], [2..Inf] )"
   ]
  },
  {
   "cell_type": "markdown",
   "id": "265085f1",
   "metadata": {},
   "source": [
    "Let us create a static contract for a second box. We assign unrestricted intervals at its input and output: Yin = Yout = (-∞, ∞) "
   ]
  },
  {
   "cell_type": "code",
   "execution_count": 5,
   "id": "d3eed7f2",
   "metadata": {},
   "outputs": [
    {
     "data": {
      "text/plain": []
     },
     "execution_count": 5,
     "metadata": {},
     "output_type": "execute_result"
    },
    {
     "name": "stdout",
     "output_type": "stream",
     "text": [
      "StaticContract( ℝ × ℝ )"
     ]
    }
   ],
   "source": [
    "box2 = StaticContract{Float64}( [-Inf..Inf], [-Inf..Inf] )"
   ]
  },
  {
   "cell_type": "markdown",
   "id": "a2d28852",
   "metadata": {},
   "source": [
    "### Serial composition:\n",
    "Consider the case of two boxes connected to each in series. In this configuration, the output of one box is connected to the input of the other box. This results in the following composition:  \n",
    "\n",
    "C<sub>Series</sub> &rarr; C1 X C2 &rarr; (_Xin_ x _Xout_) x (_Yin_ x _Yout_) &rarr; _Xin_ x _Yout_\n",
    "\n",
    "This system has a wire that enters the first box, a wire that connects the two boxes, and a wire that exits the second box. Therefore, the net system will have two inputs and one output. Our wiring diagram must reflect these connections."
   ]
  },
  {
   "cell_type": "code",
   "execution_count": 6,
   "id": "140cbb65",
   "metadata": {},
   "outputs": [],
   "source": [
    "system = WiringDiagram([:x], [:z]);"
   ]
  },
  {
   "cell_type": "markdown",
   "id": "1736afd4",
   "metadata": {},
   "source": [
    "The boxes are constructed with arrays of symbols that define their inputs and outputs. Our simple boxes only have a single input and output, so the arrays will only have one element. Moreover, since the boxes have a connection, the _input port_ of box2 must have the same _name_ as the _output port_ of a box2. "
   ]
  },
  {
   "cell_type": "code",
   "execution_count": 7,
   "id": "cad08e3f",
   "metadata": {},
   "outputs": [
    {
     "data": {
      "text/plain": [
       "2"
      ]
     },
     "execution_count": 7,
     "metadata": {},
     "output_type": "execute_result"
    }
   ],
   "source": [
    "xbox = add_box!(system, Box(:box1, [:x], [:y]))\n",
    "ybox = add_box!(system, Box(:box2, [:y], [:z]))"
   ]
  },
  {
   "cell_type": "markdown",
   "id": "f72020e1",
   "metadata": {},
   "source": [
    "Wires are added to the diagram through a _box id_ and a _port_ number. Box ids are assigned in the order that boxes are added to the diagram. In this case, _box1_ has id=1, while _box2_ has id=2. The port numbers work in the same way. The input _x_ of _box1_ has port_number=1, while the output _y_ has port_number=1.\n",
    "\n",
    "Each wire is constructed using a _source_ box with an _output_ port and a _target_ box with an _input_ port. \n",
    "Wires go from the output port of a source box to the input port of a target box. For more information on constructing wiring diagrams, see the documentation for [Catlab](https://algebraicjulia.github.io/Catlab.jl/dev/generated/wiring_diagrams/wiring_diagram_basics/). "
   ]
  },
  {
   "cell_type": "code",
   "execution_count": 8,
   "id": "98dcdd2c",
   "metadata": {},
   "outputs": [
    {
     "data": {
      "image/svg+xml": [
       "<?xml version=\"1.0\" encoding=\"UTF-8\" standalone=\"no\"?>\n",
       "<!DOCTYPE svg PUBLIC \"-//W3C//DTD SVG 1.1//EN\"\n",
       " \"http://www.w3.org/Graphics/SVG/1.1/DTD/svg11.dtd\">\n",
       "<!-- Generated by graphviz version 2.43.0 (0)\n",
       " -->\n",
       "<!-- Title: G Pages: 1 -->\n",
       "<svg width=\"234pt\" height=\"35pt\"\n",
       " viewBox=\"0.00 0.00 234.00 35.00\" xmlns=\"http://www.w3.org/2000/svg\" xmlns:xlink=\"http://www.w3.org/1999/xlink\">\n",
       "<g id=\"graph0\" class=\"graph\" transform=\"scale(1 1) rotate(0) translate(4 31)\">\n",
       "<title>G</title>\n",
       "<polygon fill=\"white\" stroke=\"transparent\" points=\"-4,4 -4,-31 230,-31 230,4 -4,4\"/>\n",
       "<!-- n0in1 -->\n",
       "<!-- n1 -->\n",
       "<!-- box1 -->\n",
       "<g id=\"n1\" class=\"node\">\n",
       "<title>n1</title>\n",
       "<polygon fill=\"none\" stroke=\"black\" points=\"46.5,0 46.5,-25 91.5,-25 91.5,0 46.5,0\"/>\n",
       "<text text-anchor=\"start\" x=\"51.5\" y=\"-8.8\" font-family=\"Serif\" font-size=\"14.00\">box1</text>\n",
       "</g>\n",
       "<!-- n0in1&#45;&gt;n1 -->\n",
       "<!-- x -->\n",
       "<g id=\"e1\" class=\"edge\">\n",
       "<title>n0in1:e&#45;&gt;n1:w</title>\n",
       "<path fill=\"none\" stroke=\"black\" d=\"M1,-12C19.12,-12 24.93,-12 40.75,-12\"/>\n",
       "<polygon fill=\"black\" stroke=\"black\" points=\"41,-13.75 46,-12 41,-10.25 41,-13.75\"/>\n",
       "<text text-anchor=\"middle\" x=\"23.5\" y=\"-15.8\" font-family=\"Serif\" font-size=\"14.00\">x</text>\n",
       "</g>\n",
       "<!-- n0out1 -->\n",
       "<!-- n2 -->\n",
       "<!-- box2 -->\n",
       "<g id=\"n2\" class=\"node\">\n",
       "<title>n2</title>\n",
       "<polygon fill=\"none\" stroke=\"black\" points=\"136.5,0 136.5,-25 181.5,-25 181.5,0 136.5,0\"/>\n",
       "<text text-anchor=\"start\" x=\"141.5\" y=\"-8.8\" font-family=\"Serif\" font-size=\"14.00\">box2</text>\n",
       "</g>\n",
       "<!-- n1&#45;&gt;n2 -->\n",
       "<!-- y -->\n",
       "<g id=\"e2\" class=\"edge\">\n",
       "<title>n1:e&#45;&gt;n2:w</title>\n",
       "<path fill=\"none\" stroke=\"black\" d=\"M91,-12C109.12,-12 114.93,-12 130.75,-12\"/>\n",
       "<polygon fill=\"black\" stroke=\"black\" points=\"131,-13.75 136,-12 131,-10.25 131,-13.75\"/>\n",
       "<text text-anchor=\"middle\" x=\"113.5\" y=\"-15.8\" font-family=\"Serif\" font-size=\"14.00\">y</text>\n",
       "</g>\n",
       "<!-- n2&#45;&gt;n0out1 -->\n",
       "<!-- z -->\n",
       "<g id=\"e3\" class=\"edge\">\n",
       "<title>n2:e&#45;&gt;n0out1:w</title>\n",
       "<path fill=\"none\" stroke=\"black\" d=\"M181,-12C198.72,-12 204.4,-12 219.86,-12\"/>\n",
       "<polygon fill=\"black\" stroke=\"black\" points=\"220,-13.75 225,-12 220,-10.25 220,-13.75\"/>\n",
       "<text text-anchor=\"middle\" x=\"203\" y=\"-15.8\" font-family=\"Serif\" font-size=\"14.00\">z</text>\n",
       "</g>\n",
       "</g>\n",
       "</svg>\n"
      ],
      "text/plain": [
       "Graph(\"G\", true, \"dot\", Statement[Subgraph(\"\", Statement[Node(\"n0in1\", OrderedCollections.OrderedDict{Symbol, Union{String, Catlab.Graphics.Graphviz.Html}}(:id => \"in1\"))], OrderedCollections.OrderedDict{Symbol, Union{String, Catlab.Graphics.Graphviz.Html}}(:rank => \"source\", :rankdir => \"TB\"), OrderedCollections.OrderedDict{Symbol, Union{String, Catlab.Graphics.Graphviz.Html}}(:style => \"invis\", :shape => \"none\", :label => \"\", :width => \"0\", :height => \"0.333\"), OrderedCollections.OrderedDict{Symbol, Union{String, Catlab.Graphics.Graphviz.Html}}(:style => \"invis\")), Subgraph(\"\", Statement[Node(\"n0out1\", OrderedCollections.OrderedDict{Symbol, Union{String, Catlab.Graphics.Graphviz.Html}}(:id => \"out1\"))], OrderedCollections.OrderedDict{Symbol, Union{String, Catlab.Graphics.Graphviz.Html}}(:rank => \"sink\", :rankdir => \"TB\"), OrderedCollections.OrderedDict{Symbol, Union{String, Catlab.Graphics.Graphviz.Html}}(:style => \"invis\", :shape => \"none\", :label => \"\", :width => \"0\", :height => \"0.333\"), OrderedCollections.OrderedDict{Symbol, Union{String, Catlab.Graphics.Graphviz.Html}}(:style => \"invis\")), Node(\"n1\", OrderedCollections.OrderedDict{Symbol, Union{String, Catlab.Graphics.Graphviz.Html}}(:color => \"black\", :comment => \"box1\", :fillcolor => \"white\", :id => \"n1\", :label => Catlab.Graphics.Graphviz.Html(\"<TABLE BORDER=\\\"0\\\" CELLPADDING=\\\"0\\\" CELLSPACING=\\\"0\\\">\\n<TR>\\n<TD><TABLE BORDER=\\\"0\\\" CELLPADDING=\\\"0\\\" CELLSPACING=\\\"0\\\"><TR><TD HEIGHT=\\\"24\\\" WIDTH=\\\"0\\\" PORT=\\\"in1\\\"></TD></TR></TABLE></TD>\\n<TD BORDER=\\\"1\\\" CELLPADDING=\\\"4\\\">box1</TD>\\n<TD><TABLE BORDER=\\\"0\\\" CELLPADDING=\\\"0\\\" CELLSPACING=\\\"0\\\"><TR><TD HEIGHT=\\\"24\\\" WIDTH=\\\"0\\\" PORT=\\\"out1\\\"></TD></TR></TABLE></TD>\\n</TR>\\n</TABLE>\"), :style => \"solid\")), Node(\"n2\", OrderedCollections.OrderedDict{Symbol, Union{String, Catlab.Graphics.Graphviz.Html}}(:color => \"black\", :comment => \"box2\", :fillcolor => \"white\", :id => \"n2\", :label => Catlab.Graphics.Graphviz.Html(\"<TABLE BORDER=\\\"0\\\" CELLPADDING=\\\"0\\\" CELLSPACING=\\\"0\\\">\\n<TR>\\n<TD><TABLE BORDER=\\\"0\\\" CELLPADDING=\\\"0\\\" CELLSPACING=\\\"0\\\"><TR><TD HEIGHT=\\\"24\\\" WIDTH=\\\"0\\\" PORT=\\\"in1\\\"></TD></TR></TABLE></TD>\\n<TD BORDER=\\\"1\\\" CELLPADDING=\\\"4\\\">box2</TD>\\n<TD><TABLE BORDER=\\\"0\\\" CELLPADDING=\\\"0\\\" CELLSPACING=\\\"0\\\"><TR><TD HEIGHT=\\\"24\\\" WIDTH=\\\"0\\\" PORT=\\\"out1\\\"></TD></TR></TABLE></TD>\\n</TR>\\n</TABLE>\"), :style => \"solid\")), Edge(NodeID[NodeID(\"n0in1\", \"e\", \"\"), NodeID(\"n1\", \"in1\", \"w\")], OrderedCollections.OrderedDict{Symbol, Union{String, Catlab.Graphics.Graphviz.Html}}(:comment => \"x\", :id => \"e1\", :label => \"x\")), Edge(NodeID[NodeID(\"n1\", \"out1\", \"e\"), NodeID(\"n2\", \"in1\", \"w\")], OrderedCollections.OrderedDict{Symbol, Union{String, Catlab.Graphics.Graphviz.Html}}(:comment => \"y\", :id => \"e2\", :label => \"y\")), Edge(NodeID[NodeID(\"n2\", \"out1\", \"e\"), NodeID(\"n0out1\", \"w\", \"\")], OrderedCollections.OrderedDict{Symbol, Union{String, Catlab.Graphics.Graphviz.Html}}(:comment => \"z\", :id => \"e3\", :label => \"z\"))], OrderedCollections.OrderedDict{Symbol, Union{String, Catlab.Graphics.Graphviz.Html}}(:fontname => \"Serif\", :rankdir => \"LR\"), OrderedCollections.OrderedDict{Symbol, Union{String, Catlab.Graphics.Graphviz.Html}}(:fontname => \"Serif\", :shape => \"none\", :width => \"0\", :height => \"0\", :margin => \"0\"), OrderedCollections.OrderedDict{Symbol, Union{String, Catlab.Graphics.Graphviz.Html}}(:arrowsize => \"0.5\", :fontname => \"Serif\"))"
      ]
     },
     "execution_count": 8,
     "metadata": {},
     "output_type": "execute_result"
    }
   ],
   "source": [
    "add_wires!(system, [  \n",
    "  (input_id(system),1) => (xbox,1),  \n",
    "  (xbox,1) => (ybox,1),\n",
    "  (ybox,1) => (output_id(system),1)\n",
    "])\n",
    "\n",
    "to_graphviz(system, orientation=LeftToRight, labels=true)"
   ]
  },
  {
   "cell_type": "markdown",
   "id": "c3dafd90",
   "metadata": {},
   "source": [
    "We assign static contracts to the wiring diagram through the _oapply_ function. The contracts must be provided in the same order the boxes were added. In our case, we placed _box1_ as the first element of our array as _x_ was the first box to be added. Notice that the resulting contract only considers the wires entering and exiting the _system_."
   ]
  },
  {
   "cell_type": "code",
   "execution_count": 9,
   "id": "35912e0b",
   "metadata": {},
   "outputs": [
    {
     "data": {
      "text/plain": []
     },
     "execution_count": 9,
     "metadata": {},
     "output_type": "execute_result"
    },
    {
     "name": "stdout",
     "output_type": "stream",
     "text": [
      "StaticContract( (1,2] × ℝ )"
     ]
    }
   ],
   "source": [
    "oapply(system, [box1, box2])"
   ]
  },
  {
   "cell_type": "markdown",
   "id": "c1f85368",
   "metadata": {},
   "source": [
    "### Parallel Composition:\n",
    "The boxes are combined to form a larger system with additional inputs and outputs in this configuration. The resulting composition is:\n",
    "\n",
    "C<sub>Parallel</sub> &rarr; C1 X C2 &rarr; (_Xin_ x _Xout_) x (_Yin_ x _Yout_) &rarr; (_Xin_ x _Yin_) x (_Xout_ x _Yout_)\n",
    "\n",
    "Given that the boxes are not interconnected, the net system will have two inputs and two outputs. The _name_ of the _ports_ entering and exiting the system _must_ match the name of the _ports_ they connect to. We also include the additional inputs and outputs by adding more elements to the symbol arrays."
   ]
  },
  {
   "cell_type": "code",
   "execution_count": 10,
   "id": "7d2f3d3e",
   "metadata": {},
   "outputs": [],
   "source": [
    "system = WiringDiagram([:x, :w], [:y, :z]);"
   ]
  },
  {
   "cell_type": "markdown",
   "id": "06d36379",
   "metadata": {},
   "source": [
    "Boxes and wires are added to the diagram like in the serial connection. Boxes are given inputs and outputs, and wires require a source and a target."
   ]
  },
  {
   "cell_type": "code",
   "execution_count": 11,
   "id": "3336bd8b",
   "metadata": {},
   "outputs": [
    {
     "data": {
      "image/svg+xml": [
       "<?xml version=\"1.0\" encoding=\"UTF-8\" standalone=\"no\"?>\n",
       "<!DOCTYPE svg PUBLIC \"-//W3C//DTD SVG 1.1//EN\"\n",
       " \"http://www.w3.org/Graphics/SVG/1.1/DTD/svg11.dtd\">\n",
       "<!-- Generated by graphviz version 2.43.0 (0)\n",
       " -->\n",
       "<!-- Title: G Pages: 1 -->\n",
       "<svg width=\"149pt\" height=\"95pt\"\n",
       " viewBox=\"0.00 0.00 149.00 95.00\" xmlns=\"http://www.w3.org/2000/svg\" xmlns:xlink=\"http://www.w3.org/1999/xlink\">\n",
       "<g id=\"graph0\" class=\"graph\" transform=\"scale(1 1) rotate(0) translate(4 91)\">\n",
       "<title>G</title>\n",
       "<polygon fill=\"white\" stroke=\"transparent\" points=\"-4,4 -4,-91 145,-91 145,4 -4,4\"/>\n",
       "<!-- n0in1 -->\n",
       "<!-- n0in2 -->\n",
       "<!-- n0in1&#45;&gt;n0in2 -->\n",
       "<!-- n1 -->\n",
       "<!-- box1 -->\n",
       "<g id=\"n1\" class=\"node\">\n",
       "<title>n1</title>\n",
       "<polygon fill=\"none\" stroke=\"black\" points=\"50.5,-60 50.5,-85 95.5,-85 95.5,-60 50.5,-60\"/>\n",
       "<text text-anchor=\"start\" x=\"55.5\" y=\"-68.8\" font-family=\"Serif\" font-size=\"14.00\">box1</text>\n",
       "</g>\n",
       "<!-- n0in1&#45;&gt;n1 -->\n",
       "<!-- x -->\n",
       "<g id=\"e1\" class=\"edge\">\n",
       "<title>n0in1:e&#45;&gt;n1:w</title>\n",
       "<path fill=\"none\" stroke=\"black\" d=\"M1,-72C20.91,-72 27.17,-72 44.73,-72\"/>\n",
       "<polygon fill=\"black\" stroke=\"black\" points=\"45,-73.75 50,-72 45,-70.25 45,-73.75\"/>\n",
       "<text text-anchor=\"middle\" x=\"25.5\" y=\"-75.8\" font-family=\"Serif\" font-size=\"14.00\">x</text>\n",
       "</g>\n",
       "<!-- n2 -->\n",
       "<!-- box2 -->\n",
       "<g id=\"n2\" class=\"node\">\n",
       "<title>n2</title>\n",
       "<polygon fill=\"none\" stroke=\"black\" points=\"50.5,0 50.5,-25 95.5,-25 95.5,0 50.5,0\"/>\n",
       "<text text-anchor=\"start\" x=\"55.5\" y=\"-8.8\" font-family=\"Serif\" font-size=\"14.00\">box2</text>\n",
       "</g>\n",
       "<!-- n0in2&#45;&gt;n2 -->\n",
       "<!-- w -->\n",
       "<g id=\"e2\" class=\"edge\">\n",
       "<title>n0in2:e&#45;&gt;n2:w</title>\n",
       "<path fill=\"none\" stroke=\"black\" d=\"M1,-12C20.91,-12 27.17,-12 44.73,-12\"/>\n",
       "<polygon fill=\"black\" stroke=\"black\" points=\"45,-13.75 50,-12 45,-10.25 45,-13.75\"/>\n",
       "<text text-anchor=\"middle\" x=\"25.5\" y=\"-15.8\" font-family=\"Serif\" font-size=\"14.00\">w</text>\n",
       "</g>\n",
       "<!-- n0out1 -->\n",
       "<!-- n0out2 -->\n",
       "<!-- n0out1&#45;&gt;n0out2 -->\n",
       "<!-- n1&#45;&gt;n0out1 -->\n",
       "<!-- y -->\n",
       "<g id=\"e3\" class=\"edge\">\n",
       "<title>n1:e&#45;&gt;n0out1:w</title>\n",
       "<path fill=\"none\" stroke=\"black\" d=\"M95,-72C113.12,-72 118.93,-72 134.75,-72\"/>\n",
       "<polygon fill=\"black\" stroke=\"black\" points=\"135,-73.75 140,-72 135,-70.25 135,-73.75\"/>\n",
       "<text text-anchor=\"middle\" x=\"117.5\" y=\"-75.8\" font-family=\"Serif\" font-size=\"14.00\">y</text>\n",
       "</g>\n",
       "<!-- n2&#45;&gt;n0out2 -->\n",
       "<!-- z -->\n",
       "<g id=\"e4\" class=\"edge\">\n",
       "<title>n2:e&#45;&gt;n0out2:w</title>\n",
       "<path fill=\"none\" stroke=\"black\" d=\"M95,-12C113.12,-12 118.93,-12 134.75,-12\"/>\n",
       "<polygon fill=\"black\" stroke=\"black\" points=\"135,-13.75 140,-12 135,-10.25 135,-13.75\"/>\n",
       "<text text-anchor=\"middle\" x=\"117.5\" y=\"-15.8\" font-family=\"Serif\" font-size=\"14.00\">z</text>\n",
       "</g>\n",
       "</g>\n",
       "</svg>\n"
      ],
      "text/plain": [
       "Graph(\"G\", true, \"dot\", Statement[Subgraph(\"\", Statement[Node(\"n0in1\", OrderedCollections.OrderedDict{Symbol, Union{String, Catlab.Graphics.Graphviz.Html}}(:id => \"in1\")), Node(\"n0in2\", OrderedCollections.OrderedDict{Symbol, Union{String, Catlab.Graphics.Graphviz.Html}}(:id => \"in2\")), Edge(NodeID[NodeID(\"n0in1\", \"\", \"\"), NodeID(\"n0in2\", \"\", \"\")], OrderedCollections.OrderedDict{Symbol, Union{String, Catlab.Graphics.Graphviz.Html}}())], OrderedCollections.OrderedDict{Symbol, Union{String, Catlab.Graphics.Graphviz.Html}}(:rank => \"source\", :rankdir => \"TB\"), OrderedCollections.OrderedDict{Symbol, Union{String, Catlab.Graphics.Graphviz.Html}}(:style => \"invis\", :shape => \"none\", :label => \"\", :width => \"0\", :height => \"0.333\"), OrderedCollections.OrderedDict{Symbol, Union{String, Catlab.Graphics.Graphviz.Html}}(:style => \"invis\")), Subgraph(\"\", Statement[Node(\"n0out1\", OrderedCollections.OrderedDict{Symbol, Union{String, Catlab.Graphics.Graphviz.Html}}(:id => \"out1\")), Node(\"n0out2\", OrderedCollections.OrderedDict{Symbol, Union{String, Catlab.Graphics.Graphviz.Html}}(:id => \"out2\")), Edge(NodeID[NodeID(\"n0out1\", \"\", \"\"), NodeID(\"n0out2\", \"\", \"\")], OrderedCollections.OrderedDict{Symbol, Union{String, Catlab.Graphics.Graphviz.Html}}())], OrderedCollections.OrderedDict{Symbol, Union{String, Catlab.Graphics.Graphviz.Html}}(:rank => \"sink\", :rankdir => \"TB\"), OrderedCollections.OrderedDict{Symbol, Union{String, Catlab.Graphics.Graphviz.Html}}(:style => \"invis\", :shape => \"none\", :label => \"\", :width => \"0\", :height => \"0.333\"), OrderedCollections.OrderedDict{Symbol, Union{String, Catlab.Graphics.Graphviz.Html}}(:style => \"invis\")), Node(\"n1\", OrderedCollections.OrderedDict{Symbol, Union{String, Catlab.Graphics.Graphviz.Html}}(:color => \"black\", :comment => \"box1\", :fillcolor => \"white\", :id => \"n1\", :label => Catlab.Graphics.Graphviz.Html(\"<TABLE BORDER=\\\"0\\\" CELLPADDING=\\\"0\\\" CELLSPACING=\\\"0\\\">\\n<TR>\\n<TD><TABLE BORDER=\\\"0\\\" CELLPADDING=\\\"0\\\" CELLSPACING=\\\"0\\\"><TR><TD HEIGHT=\\\"24\\\" WIDTH=\\\"0\\\" PORT=\\\"in1\\\"></TD></TR></TABLE></TD>\\n<TD BORDER=\\\"1\\\" CELLPADDING=\\\"4\\\">box1</TD>\\n<TD><TABLE BORDER=\\\"0\\\" CELLPADDING=\\\"0\\\" CELLSPACING=\\\"0\\\"><TR><TD HEIGHT=\\\"24\\\" WIDTH=\\\"0\\\" PORT=\\\"out1\\\"></TD></TR></TABLE></TD>\\n</TR>\\n</TABLE>\"), :style => \"solid\")), Node(\"n2\", OrderedCollections.OrderedDict{Symbol, Union{String, Catlab.Graphics.Graphviz.Html}}(:color => \"black\", :comment => \"box2\", :fillcolor => \"white\", :id => \"n2\", :label => Catlab.Graphics.Graphviz.Html(\"<TABLE BORDER=\\\"0\\\" CELLPADDING=\\\"0\\\" CELLSPACING=\\\"0\\\">\\n<TR>\\n<TD><TABLE BORDER=\\\"0\\\" CELLPADDING=\\\"0\\\" CELLSPACING=\\\"0\\\"><TR><TD HEIGHT=\\\"24\\\" WIDTH=\\\"0\\\" PORT=\\\"in1\\\"></TD></TR></TABLE></TD>\\n<TD BORDER=\\\"1\\\" CELLPADDING=\\\"4\\\">box2</TD>\\n<TD><TABLE BORDER=\\\"0\\\" CELLPADDING=\\\"0\\\" CELLSPACING=\\\"0\\\"><TR><TD HEIGHT=\\\"24\\\" WIDTH=\\\"0\\\" PORT=\\\"out1\\\"></TD></TR></TABLE></TD>\\n</TR>\\n</TABLE>\"), :style => \"solid\")), Edge(NodeID[NodeID(\"n0in1\", \"e\", \"\"), NodeID(\"n1\", \"in1\", \"w\")], OrderedCollections.OrderedDict{Symbol, Union{String, Catlab.Graphics.Graphviz.Html}}(:comment => \"x\", :id => \"e1\", :label => \"x\")), Edge(NodeID[NodeID(\"n0in2\", \"e\", \"\"), NodeID(\"n2\", \"in1\", \"w\")], OrderedCollections.OrderedDict{Symbol, Union{String, Catlab.Graphics.Graphviz.Html}}(:comment => \"w\", :id => \"e2\", :label => \"w\")), Edge(NodeID[NodeID(\"n1\", \"out1\", \"e\"), NodeID(\"n0out1\", \"w\", \"\")], OrderedCollections.OrderedDict{Symbol, Union{String, Catlab.Graphics.Graphviz.Html}}(:comment => \"y\", :id => \"e3\", :label => \"y\")), Edge(NodeID[NodeID(\"n2\", \"out1\", \"e\"), NodeID(\"n0out2\", \"w\", \"\")], OrderedCollections.OrderedDict{Symbol, Union{String, Catlab.Graphics.Graphviz.Html}}(:comment => \"z\", :id => \"e4\", :label => \"z\"))], OrderedCollections.OrderedDict{Symbol, Union{String, Catlab.Graphics.Graphviz.Html}}(:fontname => \"Serif\", :rankdir => \"LR\"), OrderedCollections.OrderedDict{Symbol, Union{String, Catlab.Graphics.Graphviz.Html}}(:fontname => \"Serif\", :shape => \"none\", :width => \"0\", :height => \"0\", :margin => \"0\"), OrderedCollections.OrderedDict{Symbol, Union{String, Catlab.Graphics.Graphviz.Html}}(:arrowsize => \"0.5\", :fontname => \"Serif\"))"
      ]
     },
     "execution_count": 11,
     "metadata": {},
     "output_type": "execute_result"
    }
   ],
   "source": [
    "xbox = add_box!(system, Box(:box1, [:x], [:y]))\n",
    "ybox = add_box!(system, Box(:box2, [:w], [:z]))\n",
    "\n",
    "add_wires!(system, [  \n",
    "  (input_id(system),1) => (xbox,1), \n",
    "  (input_id(system),2) => (ybox,1),\n",
    "  (xbox,1) => (output_id(system),1),\n",
    "  (ybox,1) => (output_id(system),2)\n",
    "])\n",
    "\n",
    "to_graphviz(system, orientation=LeftToRight, labels=true)"
   ]
  },
  {
   "cell_type": "markdown",
   "id": "1801a6c5",
   "metadata": {},
   "source": [
    "Like before, we compose the boxes using the _oapply_ function. Notice how the resulting system has more inputs and outputs than the serial composition. These ports represent the greater number of wires entering and exiting the system."
   ]
  },
  {
   "cell_type": "code",
   "execution_count": 12,
   "id": "ca1cc375",
   "metadata": {},
   "outputs": [
    {
     "data": {
      "text/plain": []
     },
     "execution_count": 12,
     "metadata": {},
     "output_type": "execute_result"
    },
    {
     "name": "stdout",
     "output_type": "stream",
     "text": [
      "StaticContract( (1,2] × ℝ × [2.0,∞) × ℝ )"
     ]
    }
   ],
   "source": [
    "oapply(system, [box1, box2])"
   ]
  },
  {
   "cell_type": "markdown",
   "id": "2f5dd198",
   "metadata": {},
   "source": [
    "### 2. Composite contract from autonomy talks\n",
    "Let us create a more complicated system using the example shown at __23:05__ of [Autonomy Talks: Compositional Cyber-Physical Systems Theory](https://www.youtube.com/watch?v=Ot9szu3HZ8g). The system consists of two boxes connected to a third box. The first two boxes have a single input and output, while the third box receives three inputs and outputs a single value. "
   ]
  },
  {
   "cell_type": "code",
   "execution_count": 13,
   "id": "e4fe37e9",
   "metadata": {},
   "outputs": [
    {
     "data": {
      "text/plain": [
       "3"
      ]
     },
     "execution_count": 13,
     "metadata": {},
     "output_type": "execute_result"
    }
   ],
   "source": [
    "system = WiringDiagram([:g, :c, :a], [:h])\n",
    "\n",
    "xbox = add_box!(system, Box(:X, [:a], [:b]))\n",
    "ybox = add_box!(system, Box(:Y, [:c], [:d]))\n",
    "zbox = add_box!(system, Box(:Z, [:b, :d, :g], [:h]))"
   ]
  },
  {
   "cell_type": "markdown",
   "id": "73056cda",
   "metadata": {},
   "source": [
    "We assign connections to the system while ensuring the name of a wire at a source matches box the name of the wire at a target box. Notice how the output of the _add_box!_ function is the id of a new box.  "
   ]
  },
  {
   "cell_type": "code",
   "execution_count": 14,
   "id": "e17e4917",
   "metadata": {},
   "outputs": [
    {
     "data": {
      "image/svg+xml": [
       "<?xml version=\"1.0\" encoding=\"UTF-8\" standalone=\"no\"?>\n",
       "<!DOCTYPE svg PUBLIC \"-//W3C//DTD SVG 1.1//EN\"\n",
       " \"http://www.w3.org/Graphics/SVG/1.1/DTD/svg11.dtd\">\n",
       "<!-- Generated by graphviz version 2.43.0 (0)\n",
       " -->\n",
       "<!-- Title: G Pages: 1 -->\n",
       "<svg width=\"187pt\" height=\"200pt\"\n",
       " viewBox=\"0.00 0.00 187.00 200.00\" xmlns=\"http://www.w3.org/2000/svg\" xmlns:xlink=\"http://www.w3.org/1999/xlink\">\n",
       "<g id=\"graph0\" class=\"graph\" transform=\"scale(1 1) rotate(0) translate(4 196)\">\n",
       "<title>G</title>\n",
       "<polygon fill=\"white\" stroke=\"transparent\" points=\"-4,4 -4,-196 183,-196 183,4 -4,4\"/>\n",
       "<!-- n0in1 -->\n",
       "<!-- n0in2 -->\n",
       "<!-- n0in1&#45;&gt;n0in2 -->\n",
       "<!-- n3 -->\n",
       "<!-- Z -->\n",
       "<g id=\"n3\" class=\"node\">\n",
       "<title>n3</title>\n",
       "<polygon fill=\"none\" stroke=\"black\" points=\"112,-119 112,-191 132,-191 132,-119 112,-119\"/>\n",
       "<text text-anchor=\"start\" x=\"117\" y=\"-151.3\" font-family=\"Serif\" font-size=\"14.00\">Z</text>\n",
       "</g>\n",
       "<!-- n0in1&#45;&gt;n3 -->\n",
       "<!-- g -->\n",
       "<g id=\"e3\" class=\"edge\">\n",
       "<title>n0in1:e&#45;&gt;n3:w</title>\n",
       "<path fill=\"none\" stroke=\"black\" d=\"M1,-132C48.6,-132 61.75,-131.07 106.93,-131\"/>\n",
       "<polygon fill=\"black\" stroke=\"black\" points=\"107,-132.75 112,-131 107,-129.25 107,-132.75\"/>\n",
       "<text text-anchor=\"middle\" x=\"56\" y=\"-135.8\" font-family=\"Serif\" font-size=\"14.00\">g</text>\n",
       "</g>\n",
       "<!-- n0in3 -->\n",
       "<!-- n0in2&#45;&gt;n0in3 -->\n",
       "<!-- n1 -->\n",
       "<!-- X -->\n",
       "<g id=\"n1\" class=\"node\">\n",
       "<title>n1</title>\n",
       "<polygon fill=\"none\" stroke=\"black\" points=\"46,-60 46,-85 66,-85 66,-60 46,-60\"/>\n",
       "<text text-anchor=\"start\" x=\"51\" y=\"-68.8\" font-family=\"Serif\" font-size=\"14.00\">X</text>\n",
       "</g>\n",
       "<!-- n0in2&#45;&gt;n1 -->\n",
       "<!-- c -->\n",
       "<g id=\"e1\" class=\"edge\">\n",
       "<title>n0in2:e&#45;&gt;n1:w</title>\n",
       "<path fill=\"none\" stroke=\"black\" d=\"M1,-72C19.12,-72 24.93,-72 40.75,-72\"/>\n",
       "<polygon fill=\"black\" stroke=\"black\" points=\"41,-73.75 46,-72 41,-70.25 41,-73.75\"/>\n",
       "<text text-anchor=\"middle\" x=\"23.5\" y=\"-75.8\" font-family=\"Serif\" font-size=\"14.00\">c</text>\n",
       "</g>\n",
       "<!-- n2 -->\n",
       "<!-- Y -->\n",
       "<g id=\"n2\" class=\"node\">\n",
       "<title>n2</title>\n",
       "<polygon fill=\"none\" stroke=\"black\" points=\"46,-13 46,-38 66,-38 66,-13 46,-13\"/>\n",
       "<text text-anchor=\"start\" x=\"51\" y=\"-21.8\" font-family=\"Serif\" font-size=\"14.00\">Y</text>\n",
       "</g>\n",
       "<!-- n0in3&#45;&gt;n2 -->\n",
       "<!-- a -->\n",
       "<g id=\"e2\" class=\"edge\">\n",
       "<title>n0in3:e&#45;&gt;n2:w</title>\n",
       "<path fill=\"none\" stroke=\"black\" d=\"M1,-12C20.03,-12 24.48,-22.86 41,-24.73\"/>\n",
       "<polygon fill=\"black\" stroke=\"black\" points=\"40.91,-26.48 46,-25 41.1,-22.98 40.91,-26.48\"/>\n",
       "<text text-anchor=\"middle\" x=\"23.5\" y=\"-24.8\" font-family=\"Serif\" font-size=\"14.00\">a</text>\n",
       "</g>\n",
       "<!-- n0out1 -->\n",
       "<!-- n1&#45;&gt;n3 -->\n",
       "<!-- b -->\n",
       "<g id=\"e4\" class=\"edge\">\n",
       "<title>n1:e&#45;&gt;n3:w</title>\n",
       "<path fill=\"none\" stroke=\"black\" d=\"M66,-72C110.72,-72 53.97,-137.86 84,-171 91.47,-179.24 97.22,-179.23 106.91,-179.06\"/>\n",
       "<polygon fill=\"black\" stroke=\"black\" points=\"107.02,-180.81 112,-179 106.98,-177.31 107.02,-180.81\"/>\n",
       "<text text-anchor=\"middle\" x=\"89\" y=\"-180.8\" font-family=\"Serif\" font-size=\"14.00\">b</text>\n",
       "</g>\n",
       "<!-- n2&#45;&gt;n3 -->\n",
       "<!-- d -->\n",
       "<g id=\"e5\" class=\"edge\">\n",
       "<title>n2:e&#45;&gt;n3:w</title>\n",
       "<path fill=\"none\" stroke=\"black\" d=\"M66,-25C125.49,-25 55.08,-147.49 106.96,-154.67\"/>\n",
       "<polygon fill=\"black\" stroke=\"black\" points=\"106.9,-156.42 112,-155 107.12,-152.93 106.9,-156.42\"/>\n",
       "<text text-anchor=\"middle\" x=\"89\" y=\"-152.8\" font-family=\"Serif\" font-size=\"14.00\">d</text>\n",
       "</g>\n",
       "<!-- n3&#45;&gt;n0out1 -->\n",
       "<!-- h -->\n",
       "<g id=\"e6\" class=\"edge\">\n",
       "<title>n3:e&#45;&gt;n0out1:w</title>\n",
       "<path fill=\"none\" stroke=\"black\" d=\"M132,-155C150.53,-155 156.46,-155 172.63,-155\"/>\n",
       "<polygon fill=\"black\" stroke=\"black\" points=\"173,-156.75 178,-155 173,-153.25 173,-156.75\"/>\n",
       "<text text-anchor=\"middle\" x=\"155\" y=\"-159.8\" font-family=\"Serif\" font-size=\"14.00\">h</text>\n",
       "</g>\n",
       "</g>\n",
       "</svg>\n"
      ],
      "text/plain": [
       "Graph(\"G\", true, \"dot\", Statement[Subgraph(\"\", Statement[Node(\"n0in1\", OrderedCollections.OrderedDict{Symbol, Union{String, Catlab.Graphics.Graphviz.Html}}(:id => \"in1\")), Node(\"n0in2\", OrderedCollections.OrderedDict{Symbol, Union{String, Catlab.Graphics.Graphviz.Html}}(:id => \"in2\")), Node(\"n0in3\", OrderedCollections.OrderedDict{Symbol, Union{String, Catlab.Graphics.Graphviz.Html}}(:id => \"in3\")), Edge(NodeID[NodeID(\"n0in1\", \"\", \"\"), NodeID(\"n0in2\", \"\", \"\"), NodeID(\"n0in3\", \"\", \"\")], OrderedCollections.OrderedDict{Symbol, Union{String, Catlab.Graphics.Graphviz.Html}}())], OrderedCollections.OrderedDict{Symbol, Union{String, Catlab.Graphics.Graphviz.Html}}(:rank => \"source\", :rankdir => \"TB\"), OrderedCollections.OrderedDict{Symbol, Union{String, Catlab.Graphics.Graphviz.Html}}(:style => \"invis\", :shape => \"none\", :label => \"\", :width => \"0\", :height => \"0.333\"), OrderedCollections.OrderedDict{Symbol, Union{String, Catlab.Graphics.Graphviz.Html}}(:style => \"invis\")), Subgraph(\"\", Statement[Node(\"n0out1\", OrderedCollections.OrderedDict{Symbol, Union{String, Catlab.Graphics.Graphviz.Html}}(:id => \"out1\"))], OrderedCollections.OrderedDict{Symbol, Union{String, Catlab.Graphics.Graphviz.Html}}(:rank => \"sink\", :rankdir => \"TB\"), OrderedCollections.OrderedDict{Symbol, Union{String, Catlab.Graphics.Graphviz.Html}}(:style => \"invis\", :shape => \"none\", :label => \"\", :width => \"0\", :height => \"0.333\"), OrderedCollections.OrderedDict{Symbol, Union{String, Catlab.Graphics.Graphviz.Html}}(:style => \"invis\")), Node(\"n1\", OrderedCollections.OrderedDict{Symbol, Union{String, Catlab.Graphics.Graphviz.Html}}(:color => \"black\", :comment => \"X\", :fillcolor => \"white\", :id => \"n1\", :label => Catlab.Graphics.Graphviz.Html(\"<TABLE BORDER=\\\"0\\\" CELLPADDING=\\\"0\\\" CELLSPACING=\\\"0\\\">\\n<TR>\\n<TD><TABLE BORDER=\\\"0\\\" CELLPADDING=\\\"0\\\" CELLSPACING=\\\"0\\\"><TR><TD HEIGHT=\\\"24\\\" WIDTH=\\\"0\\\" PORT=\\\"in1\\\"></TD></TR></TABLE></TD>\\n<TD BORDER=\\\"1\\\" CELLPADDING=\\\"4\\\">X</TD>\\n<TD><TABLE BORDER=\\\"0\\\" CELLPADDING=\\\"0\\\" CELLSPACING=\\\"0\\\"><TR><TD HEIGHT=\\\"24\\\" WIDTH=\\\"0\\\" PORT=\\\"out1\\\"></TD></TR></TABLE></TD>\\n</TR>\\n</TABLE>\"), :style => \"solid\")), Node(\"n2\", OrderedCollections.OrderedDict{Symbol, Union{String, Catlab.Graphics.Graphviz.Html}}(:color => \"black\", :comment => \"Y\", :fillcolor => \"white\", :id => \"n2\", :label => Catlab.Graphics.Graphviz.Html(\"<TABLE BORDER=\\\"0\\\" CELLPADDING=\\\"0\\\" CELLSPACING=\\\"0\\\">\\n<TR>\\n<TD><TABLE BORDER=\\\"0\\\" CELLPADDING=\\\"0\\\" CELLSPACING=\\\"0\\\"><TR><TD HEIGHT=\\\"24\\\" WIDTH=\\\"0\\\" PORT=\\\"in1\\\"></TD></TR></TABLE></TD>\\n<TD BORDER=\\\"1\\\" CELLPADDING=\\\"4\\\">Y</TD>\\n<TD><TABLE BORDER=\\\"0\\\" CELLPADDING=\\\"0\\\" CELLSPACING=\\\"0\\\"><TR><TD HEIGHT=\\\"24\\\" WIDTH=\\\"0\\\" PORT=\\\"out1\\\"></TD></TR></TABLE></TD>\\n</TR>\\n</TABLE>\"), :style => \"solid\")), Node(\"n3\", OrderedCollections.OrderedDict{Symbol, Union{String, Catlab.Graphics.Graphviz.Html}}(:color => \"black\", :comment => \"Z\", :fillcolor => \"white\", :id => \"n3\", :label => Catlab.Graphics.Graphviz.Html(\"<TABLE BORDER=\\\"0\\\" CELLPADDING=\\\"0\\\" CELLSPACING=\\\"0\\\">\\n<TR>\\n<TD><TABLE BORDER=\\\"0\\\" CELLPADDING=\\\"0\\\" CELLSPACING=\\\"0\\\"><TR><TD HEIGHT=\\\"24\\\" WIDTH=\\\"0\\\" PORT=\\\"in1\\\"></TD></TR><TR><TD HEIGHT=\\\"24\\\" WIDTH=\\\"0\\\" PORT=\\\"in2\\\"></TD></TR><TR><TD HEIGHT=\\\"24\\\" WIDTH=\\\"0\\\" PORT=\\\"in3\\\"></TD></TR></TABLE></TD>\\n<TD BORDER=\\\"1\\\" CELLPADDING=\\\"4\\\">Z</TD>\\n<TD><TABLE BORDER=\\\"0\\\" CELLPADDING=\\\"0\\\" CELLSPACING=\\\"0\\\"><TR><TD HEIGHT=\\\"24\\\" WIDTH=\\\"0\\\" PORT=\\\"out1\\\"></TD></TR></TABLE></TD>\\n</TR>\\n</TABLE>\"), :style => \"solid\")), Edge(NodeID[NodeID(\"n0in2\", \"e\", \"\"), NodeID(\"n1\", \"in1\", \"w\")], OrderedCollections.OrderedDict{Symbol, Union{String, Catlab.Graphics.Graphviz.Html}}(:comment => \"c\", :id => \"e1\", :label => \"c\")), Edge(NodeID[NodeID(\"n0in3\", \"e\", \"\"), NodeID(\"n2\", \"in1\", \"w\")], OrderedCollections.OrderedDict{Symbol, Union{String, Catlab.Graphics.Graphviz.Html}}(:comment => \"a\", :id => \"e2\", :label => \"a\")), Edge(NodeID[NodeID(\"n0in1\", \"e\", \"\"), NodeID(\"n3\", \"in3\", \"w\")], OrderedCollections.OrderedDict{Symbol, Union{String, Catlab.Graphics.Graphviz.Html}}(:comment => \"g\", :id => \"e3\", :label => \"g\")), Edge(NodeID[NodeID(\"n1\", \"out1\", \"e\"), NodeID(\"n3\", \"in1\", \"w\")], OrderedCollections.OrderedDict{Symbol, Union{String, Catlab.Graphics.Graphviz.Html}}(:comment => \"b\", :id => \"e4\", :label => \"b\")), Edge(NodeID[NodeID(\"n2\", \"out1\", \"e\"), NodeID(\"n3\", \"in2\", \"w\")], OrderedCollections.OrderedDict{Symbol, Union{String, Catlab.Graphics.Graphviz.Html}}(:comment => \"d\", :id => \"e5\", :label => \"d\")), Edge(NodeID[NodeID(\"n3\", \"out1\", \"e\"), NodeID(\"n0out1\", \"w\", \"\")], OrderedCollections.OrderedDict{Symbol, Union{String, Catlab.Graphics.Graphviz.Html}}(:comment => \"h\", :id => \"e6\", :label => \"h\"))], OrderedCollections.OrderedDict{Symbol, Union{String, Catlab.Graphics.Graphviz.Html}}(:fontname => \"Serif\", :rankdir => \"LR\"), OrderedCollections.OrderedDict{Symbol, Union{String, Catlab.Graphics.Graphviz.Html}}(:fontname => \"Serif\", :shape => \"none\", :width => \"0\", :height => \"0\", :margin => \"0\"), OrderedCollections.OrderedDict{Symbol, Union{String, Catlab.Graphics.Graphviz.Html}}(:arrowsize => \"0.5\", :fontname => \"Serif\"))"
      ]
     },
     "execution_count": 14,
     "metadata": {},
     "output_type": "execute_result"
    }
   ],
   "source": [
    "add_wires!(system, [   \n",
    "    (xbox,1) => (zbox,1),\n",
    "    (ybox,1) => (zbox,2),\n",
    "    (zbox,1) => (output_id(system),1),\n",
    "    (input_id(system),2) => (xbox,1), \n",
    "    (input_id(system),3) => (ybox,1), \n",
    "    (input_id(system),1) => (zbox,3),   \n",
    "])\n",
    "\n",
    "to_graphviz(system, orientation=LeftToRight, labels=true)"
   ]
  },
  {
   "cell_type": "markdown",
   "id": "ec23dbf1",
   "metadata": {},
   "source": [
    "We now assign contracts to each of the boxes. Given the third box has three inputs, we must define three intervals for its inputs. Likewise, as there is only one output per box, the resulting arrays only have a single element. Let our boxes have the following contracts:  \n",
    "\n",
    "C<sub>x</sub> &rarr; [4,5] x [4,5]  \n",
    "C<sub>y</sub> &rarr; [8,9] x [8,9]  \n",
    "C<sub>z</sub> &rarr; ( [3,5] x [7,9] x (-∞,∞) ) x [0,1]  "
   ]
  },
  {
   "cell_type": "code",
   "execution_count": 15,
   "id": "7e6146a7",
   "metadata": {},
   "outputs": [
    {
     "data": {
      "text/plain": []
     },
     "execution_count": 15,
     "metadata": {},
     "output_type": "execute_result"
    },
    {
     "name": "stdout",
     "output_type": "stream",
     "text": [
      "StaticContract( [3.0,5.0] × [7.0,9.0] × ℝ × [0,1] )"
     ]
    }
   ],
   "source": [
    "# Contracts for each box\n",
    "rx = StaticContract{Float64}( [4..5], [4..5] )\n",
    "ry = StaticContract{Float64}( [8..9], [8..9] )\n",
    "rz = StaticContract{Float64}( [3..5, 7..9, -Inf..Inf], [0..1] )"
   ]
  },
  {
   "cell_type": "markdown",
   "id": "83635473",
   "metadata": {},
   "source": [
    "Next, we compose the contracts using the wiring diagram. Notice how the composition matches the result of the example shown in the video. The new system has three inputs and one output, and the net contract reflects this by showing four intervals."
   ]
  },
  {
   "cell_type": "code",
   "execution_count": 16,
   "id": "f4657a13",
   "metadata": {},
   "outputs": [
    {
     "data": {
      "text/plain": []
     },
     "execution_count": 16,
     "metadata": {},
     "output_type": "execute_result"
    },
    {
     "name": "stdout",
     "output_type": "stream",
     "text": [
      "StaticContract( [4,5] × [8,9] × ℝ × [0,1] )"
     ]
    }
   ],
   "source": [
    "# Net contract for system\n",
    "oapply(system, Dict(:X=>rx, :Y=>ry, :Z=>rz)) "
   ]
  },
  {
   "cell_type": "markdown",
   "id": "40198da0",
   "metadata": {},
   "source": [
    "### 3. Composite contracts for a UAV system\n",
    "\n",
    "Let us construct another system that includes a feedback loop. To do this, we shall use the UAV example from page 22 of [Categorical Semantics of Cyber-Physical Systems Theory](https://arxiv.org/abs/2010.08003). \n",
    "\n",
    "Like before, we must construct a wiring diagram for our system. It will consist of a sensor box, a controller box, and a dynamics box. The sensor shall receive an external input __e__ and the system's state __s__ and output a measured state __s_prime__. The controller shall receive the measured signal __s_prime__, target state __d__, and output a control signal __c__. Finally, the dynamics box shall receive the control input __c__ and output the system's state __s__. "
   ]
  },
  {
   "cell_type": "code",
   "execution_count": 17,
   "id": "e82735ad",
   "metadata": {},
   "outputs": [
    {
     "data": {
      "image/svg+xml": [
       "<?xml version=\"1.0\" encoding=\"UTF-8\" standalone=\"no\"?>\n",
       "<!DOCTYPE svg PUBLIC \"-//W3C//DTD SVG 1.1//EN\"\n",
       " \"http://www.w3.org/Graphics/SVG/1.1/DTD/svg11.dtd\">\n",
       "<!-- Generated by graphviz version 2.43.0 (0)\n",
       " -->\n",
       "<!-- Title: G Pages: 1 -->\n",
       "<svg width=\"452pt\" height=\"126pt\"\n",
       " viewBox=\"0.00 0.00 452.00 126.00\" xmlns=\"http://www.w3.org/2000/svg\" xmlns:xlink=\"http://www.w3.org/1999/xlink\">\n",
       "<g id=\"graph0\" class=\"graph\" transform=\"scale(1 1) rotate(0) translate(4 122)\">\n",
       "<title>G</title>\n",
       "<polygon fill=\"white\" stroke=\"transparent\" points=\"-4,4 -4,-122 448,-122 448,4 -4,4\"/>\n",
       "<!-- n0in1 -->\n",
       "<!-- n0in2 -->\n",
       "<!-- n0in1&#45;&gt;n0in2 -->\n",
       "<!-- n1 -->\n",
       "<!-- sensor -->\n",
       "<g id=\"n1\" class=\"node\">\n",
       "<title>n1</title>\n",
       "<polygon fill=\"none\" stroke=\"black\" points=\"46,-57 46,-105 104,-105 104,-57 46,-57\"/>\n",
       "<text text-anchor=\"start\" x=\"51\" y=\"-77.3\" font-family=\"Serif\" font-size=\"14.00\">sensor</text>\n",
       "</g>\n",
       "<!-- n0in1&#45;&gt;n1 -->\n",
       "<!-- e -->\n",
       "<g id=\"e1\" class=\"edge\">\n",
       "<title>n0in1:e&#45;&gt;n1:w</title>\n",
       "<path fill=\"none\" stroke=\"black\" d=\"M1,-72C19.17,-72 24.9,-69.54 40.74,-69.07\"/>\n",
       "<polygon fill=\"black\" stroke=\"black\" points=\"41.03,-70.82 46,-69 40.98,-67.32 41.03,-70.82\"/>\n",
       "<text text-anchor=\"middle\" x=\"23.5\" y=\"-74.8\" font-family=\"Serif\" font-size=\"14.00\">e</text>\n",
       "</g>\n",
       "<!-- n2 -->\n",
       "<!-- controller -->\n",
       "<g id=\"n2\" class=\"node\">\n",
       "<title>n2</title>\n",
       "<polygon fill=\"none\" stroke=\"black\" points=\"197,-9 197,-57 277,-57 277,-9 197,-9\"/>\n",
       "<text text-anchor=\"start\" x=\"202\" y=\"-29.3\" font-family=\"Serif\" font-size=\"14.00\">controller</text>\n",
       "</g>\n",
       "<!-- n0in2&#45;&gt;n2 -->\n",
       "<!-- d -->\n",
       "<g id=\"e2\" class=\"edge\">\n",
       "<title>n0in2:e&#45;&gt;n2:w</title>\n",
       "<path fill=\"none\" stroke=\"black\" d=\"M1,-12C86.5,-12 108.93,-20.65 191.96,-20.99\"/>\n",
       "<polygon fill=\"black\" stroke=\"black\" points=\"192,-22.74 197,-21 192,-19.24 192,-22.74\"/>\n",
       "<text text-anchor=\"middle\" x=\"75\" y=\"-20.8\" font-family=\"Serif\" font-size=\"14.00\">d</text>\n",
       "</g>\n",
       "<!-- n0out1 -->\n",
       "<!-- n1&#45;&gt;n2 -->\n",
       "<!-- s_prime -->\n",
       "<g id=\"e3\" class=\"edge\">\n",
       "<title>n1:e&#45;&gt;n2:w</title>\n",
       "<path fill=\"none\" stroke=\"black\" d=\"M104,-81C115,-81 112.36,-69.3 122,-64 150.61,-48.28 161.5,-45.28 191.94,-45.02\"/>\n",
       "<polygon fill=\"black\" stroke=\"black\" points=\"192.01,-46.77 197,-45 191.99,-43.27 192.01,-46.77\"/>\n",
       "<text text-anchor=\"middle\" x=\"150.5\" y=\"-67.8\" font-family=\"Serif\" font-size=\"14.00\">s_prime</text>\n",
       "</g>\n",
       "<!-- n3 -->\n",
       "<!-- dynamics -->\n",
       "<g id=\"n3\" class=\"node\">\n",
       "<title>n3</title>\n",
       "<polygon fill=\"none\" stroke=\"black\" points=\"321,-51 321,-76 399,-76 399,-51 321,-51\"/>\n",
       "<text text-anchor=\"start\" x=\"326\" y=\"-59.8\" font-family=\"Serif\" font-size=\"14.00\">dynamics</text>\n",
       "</g>\n",
       "<!-- n2&#45;&gt;n3 -->\n",
       "<!-- c -->\n",
       "<g id=\"e4\" class=\"edge\">\n",
       "<title>n2:e&#45;&gt;n3:w</title>\n",
       "<path fill=\"none\" stroke=\"black\" d=\"M277,-33C298.82,-33 297.69,-58.5 315.92,-62.48\"/>\n",
       "<polygon fill=\"black\" stroke=\"black\" points=\"315.85,-64.23 321,-63 316.2,-60.75 315.85,-64.23\"/>\n",
       "<text text-anchor=\"middle\" x=\"299\" y=\"-57.8\" font-family=\"Serif\" font-size=\"14.00\">c</text>\n",
       "</g>\n",
       "<!-- n3&#45;&gt;n0out1 -->\n",
       "<!-- s -->\n",
       "<g id=\"e6\" class=\"edge\">\n",
       "<title>n3:e&#45;&gt;n0out1:w</title>\n",
       "<path fill=\"none\" stroke=\"black\" d=\"M399,-63C416.72,-63 422.4,-63 437.86,-63\"/>\n",
       "<polygon fill=\"black\" stroke=\"black\" points=\"438,-64.75 443,-63 438,-61.25 438,-64.75\"/>\n",
       "<text text-anchor=\"middle\" x=\"421\" y=\"-66.8\" font-family=\"Serif\" font-size=\"14.00\">s</text>\n",
       "</g>\n",
       "<!-- n3&#45;&gt;n1 -->\n",
       "<!-- s -->\n",
       "<g id=\"e5\" class=\"edge\">\n",
       "<title>n3:e&#45;&gt;n1:w</title>\n",
       "<path fill=\"none\" stroke=\"black\" d=\"M400,-63C411.87,-63 411.2,-9.38 321,-51.5 309.71,-56.77 313.84,-66.84 303,-73 225.11,-117.25 193.3,-97.87 104,-105 78.3,-107.05 64.97,-122.45 46,-105 43.91,-103.07 42.25,-99.81 41.95,-97.17\"/>\n",
       "<polygon fill=\"black\" stroke=\"black\" points=\"43.46,-98.07 45,-93 40.64,-96 43.46,-98.07\"/>\n",
       "<text text-anchor=\"middle\" x=\"237\" y=\"-106.8\" font-family=\"Serif\" font-size=\"14.00\">s</text>\n",
       "</g>\n",
       "</g>\n",
       "</svg>\n"
      ],
      "text/plain": [
       "Graph(\"G\", true, \"dot\", Statement[Subgraph(\"\", Statement[Node(\"n0in1\", OrderedCollections.OrderedDict{Symbol, Union{String, Catlab.Graphics.Graphviz.Html}}(:id => \"in1\")), Node(\"n0in2\", OrderedCollections.OrderedDict{Symbol, Union{String, Catlab.Graphics.Graphviz.Html}}(:id => \"in2\")), Edge(NodeID[NodeID(\"n0in1\", \"\", \"\"), NodeID(\"n0in2\", \"\", \"\")], OrderedCollections.OrderedDict{Symbol, Union{String, Catlab.Graphics.Graphviz.Html}}())], OrderedCollections.OrderedDict{Symbol, Union{String, Catlab.Graphics.Graphviz.Html}}(:rank => \"source\", :rankdir => \"TB\"), OrderedCollections.OrderedDict{Symbol, Union{String, Catlab.Graphics.Graphviz.Html}}(:style => \"invis\", :shape => \"none\", :label => \"\", :width => \"0\", :height => \"0.333\"), OrderedCollections.OrderedDict{Symbol, Union{String, Catlab.Graphics.Graphviz.Html}}(:style => \"invis\")), Subgraph(\"\", Statement[Node(\"n0out1\", OrderedCollections.OrderedDict{Symbol, Union{String, Catlab.Graphics.Graphviz.Html}}(:id => \"out1\"))], OrderedCollections.OrderedDict{Symbol, Union{String, Catlab.Graphics.Graphviz.Html}}(:rank => \"sink\", :rankdir => \"TB\"), OrderedCollections.OrderedDict{Symbol, Union{String, Catlab.Graphics.Graphviz.Html}}(:style => \"invis\", :shape => \"none\", :label => \"\", :width => \"0\", :height => \"0.333\"), OrderedCollections.OrderedDict{Symbol, Union{String, Catlab.Graphics.Graphviz.Html}}(:style => \"invis\")), Node(\"n1\", OrderedCollections.OrderedDict{Symbol, Union{String, Catlab.Graphics.Graphviz.Html}}(:color => \"black\", :comment => \"sensor\", :fillcolor => \"white\", :id => \"n1\", :label => Catlab.Graphics.Graphviz.Html(\"<TABLE BORDER=\\\"0\\\" CELLPADDING=\\\"0\\\" CELLSPACING=\\\"0\\\">\\n<TR>\\n<TD><TABLE BORDER=\\\"0\\\" CELLPADDING=\\\"0\\\" CELLSPACING=\\\"0\\\"><TR><TD HEIGHT=\\\"24\\\" WIDTH=\\\"0\\\" PORT=\\\"in1\\\"></TD></TR><TR><TD HEIGHT=\\\"24\\\" WIDTH=\\\"0\\\" PORT=\\\"in2\\\"></TD></TR></TABLE></TD>\\n<TD BORDER=\\\"1\\\" CELLPADDING=\\\"4\\\">sensor</TD>\\n<TD><TABLE BORDER=\\\"0\\\" CELLPADDING=\\\"0\\\" CELLSPACING=\\\"0\\\"><TR><TD HEIGHT=\\\"24\\\" WIDTH=\\\"0\\\" PORT=\\\"out1\\\"></TD></TR></TABLE></TD>\\n</TR>\\n</TABLE>\"), :style => \"solid\")), Node(\"n2\", OrderedCollections.OrderedDict{Symbol, Union{String, Catlab.Graphics.Graphviz.Html}}(:color => \"black\", :comment => \"controller\", :fillcolor => \"white\", :id => \"n2\", :label => Catlab.Graphics.Graphviz.Html(\"<TABLE BORDER=\\\"0\\\" CELLPADDING=\\\"0\\\" CELLSPACING=\\\"0\\\">\\n<TR>\\n<TD><TABLE BORDER=\\\"0\\\" CELLPADDING=\\\"0\\\" CELLSPACING=\\\"0\\\"><TR><TD HEIGHT=\\\"24\\\" WIDTH=\\\"0\\\" PORT=\\\"in1\\\"></TD></TR><TR><TD HEIGHT=\\\"24\\\" WIDTH=\\\"0\\\" PORT=\\\"in2\\\"></TD></TR></TABLE></TD>\\n<TD BORDER=\\\"1\\\" CELLPADDING=\\\"4\\\">controller</TD>\\n<TD><TABLE BORDER=\\\"0\\\" CELLPADDING=\\\"0\\\" CELLSPACING=\\\"0\\\"><TR><TD HEIGHT=\\\"24\\\" WIDTH=\\\"0\\\" PORT=\\\"out1\\\"></TD></TR></TABLE></TD>\\n</TR>\\n</TABLE>\"), :style => \"solid\")), Node(\"n3\", OrderedCollections.OrderedDict{Symbol, Union{String, Catlab.Graphics.Graphviz.Html}}(:color => \"black\", :comment => \"dynamics\", :fillcolor => \"white\", :id => \"n3\", :label => Catlab.Graphics.Graphviz.Html(\"<TABLE BORDER=\\\"0\\\" CELLPADDING=\\\"0\\\" CELLSPACING=\\\"0\\\">\\n<TR>\\n<TD><TABLE BORDER=\\\"0\\\" CELLPADDING=\\\"0\\\" CELLSPACING=\\\"0\\\"><TR><TD HEIGHT=\\\"24\\\" WIDTH=\\\"0\\\" PORT=\\\"in1\\\"></TD></TR></TABLE></TD>\\n<TD BORDER=\\\"1\\\" CELLPADDING=\\\"4\\\">dynamics</TD>\\n<TD><TABLE BORDER=\\\"0\\\" CELLPADDING=\\\"0\\\" CELLSPACING=\\\"0\\\"><TR><TD HEIGHT=\\\"24\\\" WIDTH=\\\"0\\\" PORT=\\\"out1\\\"></TD></TR></TABLE></TD>\\n</TR>\\n</TABLE>\"), :style => \"solid\")), Edge(NodeID[NodeID(\"n0in1\", \"e\", \"\"), NodeID(\"n1\", \"in2\", \"w\")], OrderedCollections.OrderedDict{Symbol, Union{String, Catlab.Graphics.Graphviz.Html}}(:comment => \"e\", :id => \"e1\", :label => \"e\")), Edge(NodeID[NodeID(\"n0in2\", \"e\", \"\"), NodeID(\"n2\", \"in2\", \"w\")], OrderedCollections.OrderedDict{Symbol, Union{String, Catlab.Graphics.Graphviz.Html}}(:comment => \"d\", :id => \"e2\", :label => \"d\")), Edge(NodeID[NodeID(\"n1\", \"out1\", \"e\"), NodeID(\"n2\", \"in1\", \"w\")], OrderedCollections.OrderedDict{Symbol, Union{String, Catlab.Graphics.Graphviz.Html}}(:comment => \"s_prime\", :id => \"e3\", :label => \"s_prime\")), Edge(NodeID[NodeID(\"n2\", \"out1\", \"e\"), NodeID(\"n3\", \"in1\", \"w\")], OrderedCollections.OrderedDict{Symbol, Union{String, Catlab.Graphics.Graphviz.Html}}(:comment => \"c\", :id => \"e4\", :label => \"c\")), Edge(NodeID[NodeID(\"n3\", \"out1\", \"e\"), NodeID(\"n1\", \"in1\", \"w\")], OrderedCollections.OrderedDict{Symbol, Union{String, Catlab.Graphics.Graphviz.Html}}(:comment => \"s\", :id => \"e5\", :label => \"s\")), Edge(NodeID[NodeID(\"n3\", \"out1\", \"e\"), NodeID(\"n0out1\", \"w\", \"\")], OrderedCollections.OrderedDict{Symbol, Union{String, Catlab.Graphics.Graphviz.Html}}(:comment => \"s\", :id => \"e6\", :label => \"s\"))], OrderedCollections.OrderedDict{Symbol, Union{String, Catlab.Graphics.Graphviz.Html}}(:fontname => \"Serif\", :rankdir => \"LR\"), OrderedCollections.OrderedDict{Symbol, Union{String, Catlab.Graphics.Graphviz.Html}}(:fontname => \"Serif\", :shape => \"none\", :width => \"0\", :height => \"0\", :margin => \"0\"), OrderedCollections.OrderedDict{Symbol, Union{String, Catlab.Graphics.Graphviz.Html}}(:arrowsize => \"0.5\", :fontname => \"Serif\"))"
      ]
     },
     "execution_count": 17,
     "metadata": {},
     "output_type": "execute_result"
    }
   ],
   "source": [
    "# Create the net system, two inputs, one output\n",
    "UAV = WiringDiagram([:e,:d], [:s])\n",
    "\n",
    "# Boxes have the inputs and outputs mentioned in the description\n",
    "sensor     = add_box!(UAV, Box(:sensor    , [:s, :e]      , [:s_prime]))\n",
    "controller = add_box!(UAV, Box(:controller, [:s_prime, :d], [:c]))\n",
    "dynamics   = add_box!(UAV, Box(:dynamics  , [:c]          , [:s]))\n",
    "\n",
    "# Attach wires using box id's and port numbers\n",
    "add_wires!(UAV, [     \n",
    "  (input_id(UAV),1) => (sensor,2),\n",
    "  (input_id(UAV),2) => (controller,2),\n",
    "  (sensor,1) => (controller,1),\n",
    "  (controller,1) => (dynamics,1),\n",
    "  (dynamics,1) => (sensor,1),\n",
    "  (dynamics,1) => (output_id(UAV),1)\n",
    "])\n",
    "\n",
    "# Display the graph\n",
    "to_graphviz(UAV, orientation=LeftToRight, labels=true)"
   ]
  },
  {
   "cell_type": "markdown",
   "id": "ef6c18a1",
   "metadata": {},
   "source": [
    "As we can see from the wiring diagram, the system has a feedback loop between the dynamics box and the controller. However, this detail does not affect how we declare our static contracts. We still assign arrays of intervals to each box. To this end, let us give each box the following contracts:\n",
    "\n",
    "C<sub>sensor</sub> &rarr; ( (-∞,∞) x [0,100] ) x (-∞,∞)   \n",
    "C<sub>machine</sub> &rarr; ( (-∞,∞) x [-20,20] ) x (-∞,∞)  \n",
    "C<sub>dynamics</sub> &rarr; (-∞,∞) x [-35,35]  \n",
    "\n",
    "Notice how the order of the intervals in the contracts coincides with the port of a box. For example, __e__ has the restriction [0,100] at the sensor box. "
   ]
  },
  {
   "cell_type": "code",
   "execution_count": 18,
   "id": "d8010baa",
   "metadata": {},
   "outputs": [
    {
     "data": {
      "text/plain": []
     },
     "execution_count": 18,
     "metadata": {},
     "output_type": "execute_result"
    },
    {
     "name": "stdout",
     "output_type": "stream",
     "text": [
      "StaticContract( ℝ × [-35.0,35.0] )"
     ]
    }
   ],
   "source": [
    "# Define the contracts for each box\n",
    "s_machine = StaticContract{Float64}([-Inf..Inf,  0.0..100.0],  # Inputs   \n",
    "                                    [-Inf..Inf])               # Outputs\n",
    "\n",
    "c_machine = StaticContract{Float64}([-Inf..Inf,  -20.0..20.0], # Inputs\n",
    "                                    [-Inf..Inf])               # Outputs     \n",
    " \n",
    "d_machine = StaticContract{Float64}([-Inf..Inf],               # Inputs\n",
    "                                    [-35.0..35.0])             # Outputs"
   ]
  },
  {
   "cell_type": "markdown",
   "id": "81a83259",
   "metadata": {},
   "source": [
    "Finally, we compose the contracts using the wiring diagram by assigning contracts to each box. We may do this with a dictionary by referencing the box's name we want to populate. Additionally, since we have two inputs and one output, the combined system will display three intervals.  "
   ]
  },
  {
   "cell_type": "code",
   "execution_count": 19,
   "id": "c651ece7",
   "metadata": {},
   "outputs": [
    {
     "data": {
      "text/plain": []
     },
     "execution_count": 19,
     "metadata": {},
     "output_type": "execute_result"
    },
    {
     "name": "stdout",
     "output_type": "stream",
     "text": [
      "StaticContract( [0.0,100.0] × [-20.0,20.0] × [-35.0,35.0] )"
     ]
    }
   ],
   "source": [
    "# compose system\n",
    "comp = oapply(UAV, Dict(:sensor => s_machine, \n",
    "                        :controller => c_machine, \n",
    "                        :dynamics => d_machine))"
   ]
  }
 ],
 "metadata": {
  "@webio": {
   "lastCommId": null,
   "lastKernelId": null
  },
  "kernelspec": {
   "display_name": "Julia 1.7.1",
   "language": "julia",
   "name": "julia-1.7"
  },
  "language_info": {
   "file_extension": ".jl",
   "mimetype": "application/julia",
   "name": "julia",
   "version": "1.7.1"
  }
 },
 "nbformat": 4,
 "nbformat_minor": 5
}
